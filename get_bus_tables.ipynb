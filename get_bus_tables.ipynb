{
 "cells": [
  {
   "cell_type": "code",
   "execution_count": 2,
   "metadata": {},
   "outputs": [],
   "source": [
    "import requests, csv, os\n",
    "from dotenv import load_dotenv\n",
    "from datetime import date \n",
    "\n",
    "load_dotenv()\n",
    "key = os.environ.get('AccountKey')\n",
    "method = 'GET'\n",
    "headers = { 'AccountKey' : key,\n",
    "            'accept' : 'application/json'}\n",
    "\n",
    "#Get all data when API limits to 500 rows\n",
    "def get_all_data(base_uri,output_file):\n",
    "    end = False\n",
    "    n = 0\n",
    "    result_arr = []\n",
    "    while end == False:\n",
    "        uri = base_uri+\"?$skip=\"+str(n)\n",
    "        response = requests.get(uri, headers=headers)\n",
    "        if response.status_code == 200:\n",
    "#             print(\"Getting rows \"+str(n)+\"+...\")\n",
    "            jsonObj = response.json()\n",
    "            nrow = len(jsonObj['value'])\n",
    "            result_arr.extend(jsonObj['value'])\n",
    "            if nrow < 500:\n",
    "                end = True\n",
    "            n += nrow\n",
    "        else:\n",
    "#             print(\"Failed to request with error \"+str(response.status_code))\n",
    "            end = True\n",
    "    #Write list\n",
    "    with open(output_file,'w',encoding='utf-8') as f:\n",
    "        title = [*result_arr[0].keys()]\n",
    "        cw = csv.DictWriter(f,title,delimiter=\",\")\n",
    "        cw.writeheader()\n",
    "        cw.writerows(result_arr)\n",
    "    print(\"Total rows: \"+str(n))"
   ]
  },
  {
   "cell_type": "code",
   "execution_count": 3,
   "metadata": {},
   "outputs": [
    {
     "name": "stdout",
     "output_type": "stream",
     "text": [
      "20210904\n",
      "Total rows: 5049\n",
      "Total rows: 727\n",
      "Total rows: 26316\n"
     ]
    }
   ],
   "source": [
    "today = date.today().strftime(\"%Y%m%d\")\n",
    "\n",
    "#Bus service\n",
    "bus_svc_uri = \"http://datamall2.mytransport.sg/ltaodataservice/BusServices\"\n",
    "#Bus route\n",
    "bus_route_uri = \"http://datamall2.mytransport.sg/ltaodataservice/BusRoutes\"\n",
    "#Bus stop coordinates\n",
    "bus_stop_uri = \"http://datamall2.mytransport.sg/ltaodataservice/BusStops\"\n",
    "\n",
    "print(today)\n",
    "get_all_data(bus_stop_uri,os.path.join('output',today+'bus_stop.csv'))\n",
    "get_all_data(bus_svc_uri,os.path.join('output',today+'bus_service.csv'))\n",
    "get_all_data(bus_route_uri,os.path.join('output',today+'bus_route.csv'))"
   ]
  }
 ],
 "metadata": {
  "interpreter": {
   "hash": "0268a94ee314bd6b283ac7b130dacecff2ededbd2d8520c7938e00577cbd2085"
  },
  "kernelspec": {
   "display_name": "Python 3",
   "language": "python",
   "name": "python3"
  },
  "language_info": {
   "codemirror_mode": {
    "name": "ipython",
    "version": 3
   },
   "file_extension": ".py",
   "mimetype": "text/x-python",
   "name": "python",
   "nbconvert_exporter": "python",
   "pygments_lexer": "ipython3",
   "version": "3.8.3"
  }
 },
 "nbformat": 4,
 "nbformat_minor": 2
}
